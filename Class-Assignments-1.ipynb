{
 "cells": [
  {
   "cell_type": "code",
   "execution_count": 14,
   "id": "441f215d-b557-47a0-b41c-869a0b9a833a",
   "metadata": {},
   "outputs": [],
   "source": [
    "# List Subfields in AI\n",
    "class SubFieldsInAI:\n",
    "    def Subfields():\n",
    "        subfields = [\"Machine Learning\", \"Neural Networks\", \"Vision\",\n",
    "                     \"Robotics\", \"Speech Processing\", \"Natural Language Processing\"]\n",
    "        print(\"Sub-fields in AI are:\")\n",
    "        for field in subfields:\n",
    "            print(field)"
   ]
  },
  {
   "cell_type": "code",
   "execution_count": 16,
   "id": "9034e336-489e-4f64-a5dd-f229987cc7a2",
   "metadata": {},
   "outputs": [
    {
     "name": "stdout",
     "output_type": "stream",
     "text": [
      "Sub-fields in AI are:\n",
      "Machine Learning\n",
      "Neural Networks\n",
      "Vision\n",
      "Robotics\n",
      "Speech Processing\n",
      "Natural Language Processing\n"
     ]
    }
   ],
   "source": [
    "SubFieldsInAI.Subfields()"
   ]
  },
  {
   "cell_type": "code",
   "execution_count": null,
   "id": "376073f3-865b-47da-a1e3-5392c116f272",
   "metadata": {},
   "outputs": [],
   "source": [
    "# Create a function that checks whether the given number is odd or even"
   ]
  },
  {
   "cell_type": "code",
   "execution_count": 28,
   "id": "00c79dea-cc79-4a79-b0f2-3611cf16ce78",
   "metadata": {},
   "outputs": [],
   "source": [
    "class OddEven:\n",
    "    \n",
    "    def OddEven():\n",
    "        num=int(input(\"Enter the number:\"))\n",
    "        if(num%2==0):\n",
    "            print(\"Even number\")\n",
    "            message=\"Even number\"\n",
    "        else:\n",
    "            print(\"Odd number\")\n",
    "            message=\"Odd number\"\n",
    "        return num, message\n",
    "\n"
   ]
  },
  {
   "cell_type": "code",
   "execution_count": 30,
   "id": "b3b38d75-4bc3-414d-89d6-4dfba113b736",
   "metadata": {},
   "outputs": [
    {
     "name": "stdin",
     "output_type": "stream",
     "text": [
      "Enter the number: 54252\n"
     ]
    },
    {
     "name": "stdout",
     "output_type": "stream",
     "text": [
      "Even number\n"
     ]
    },
    {
     "data": {
      "text/plain": [
       "(54252, 'Even number')"
      ]
     },
     "execution_count": 30,
     "metadata": {},
     "output_type": "execute_result"
    }
   ],
   "source": [
    "OddEven.OddEven()"
   ]
  },
  {
   "cell_type": "code",
   "execution_count": null,
   "id": "0a7c6aba-8b28-4fe3-bf87-3d50ed9f63ac",
   "metadata": {},
   "outputs": [],
   "source": [
    "# Create a function that tels eligibility of mariage \n",
    "for male and female according to their age limit like 21 for male and 18 for female"
   ]
  },
  {
   "cell_type": "code",
   "execution_count": 36,
   "id": "8eceb53b-5143-4b30-88bb-82bddc27d95c",
   "metadata": {},
   "outputs": [],
   "source": [
    "class EligibilityForMarriage:\n",
    "    def Eligible():\n",
    "        gender = input(\"your gender:\")\n",
    "        age = int(input(\"your age:\"))\n",
    "        if (gender.lower() == \"male\" and age>=21) or (gender.lower() == \"female\" and age<=18):\n",
    "            print(\"ELIGIBLE\")\n",
    "            message=\"ELIGIBLE\"\n",
    "        else:\n",
    "            print(\"NOT ELIGIBLE\")\n",
    "            message=\"NOT ELIGIBLE\"\n",
    "        return message"
   ]
  },
  {
   "cell_type": "code",
   "execution_count": 38,
   "id": "2f597f49-b0d8-4261-8b9a-9024bf75e194",
   "metadata": {},
   "outputs": [
    {
     "name": "stdin",
     "output_type": "stream",
     "text": [
      "your gender: male\n",
      "your age: 20\n"
     ]
    },
    {
     "name": "stdout",
     "output_type": "stream",
     "text": [
      "NOT ELIGIBLE\n"
     ]
    },
    {
     "data": {
      "text/plain": [
       "'NOT ELIGIBLE'"
      ]
     },
     "execution_count": 38,
     "metadata": {},
     "output_type": "execute_result"
    }
   ],
   "source": [
    "EligibilityForMarriage.Eligible()"
   ]
  },
  {
   "cell_type": "code",
   "execution_count": null,
   "id": "11fbd645-0a43-400f-ae12-3e19cbce9337",
   "metadata": {},
   "outputs": [],
   "source": [
    "# Calculate the percentage of your 10 th mark"
   ]
  },
  {
   "cell_type": "code",
   "execution_count": 40,
   "id": "cf6ceacf-41e6-48a3-8295-2a69e9213f85",
   "metadata": {},
   "outputs": [],
   "source": [
    "class FindPercent:\n",
    "    def percentage():\n",
    "            Subject1 = int(input(\"Subject1= \"))\n",
    "            Subject2 = int(input(\"Subject2= \"))\n",
    "            Subject3 = int(input(\"Subject3= \"))\n",
    "            Subject4 = int(input(\"Subject4= \"))\n",
    "            Subject5 = int(input(\"Subject5= \"))\n",
    "            Total = Subject1 + Subject2 + Subject3 + Subject4 + Subject5 \n",
    "            Percentage = (Total/500) * 100\n",
    "            \n",
    "            print(\"Total:\" , Total)\n",
    "            print(\"Percentage:\",(Percentage))\n",
    "            return Percentage"
   ]
  },
  {
   "cell_type": "code",
   "execution_count": 42,
   "id": "a16caf70-3ce2-405d-98fe-6b063bbb5e62",
   "metadata": {},
   "outputs": [
    {
     "name": "stdin",
     "output_type": "stream",
     "text": [
      "Subject1=  98\n",
      "Subject2=  87\n",
      "Subject3=  95\n",
      "Subject4=  95\n",
      "Subject5=  93\n"
     ]
    },
    {
     "name": "stdout",
     "output_type": "stream",
     "text": [
      "Total: 468\n",
      "Percentage: 93.60000000000001\n"
     ]
    },
    {
     "data": {
      "text/plain": [
       "93.60000000000001"
      ]
     },
     "execution_count": 42,
     "metadata": {},
     "output_type": "execute_result"
    }
   ],
   "source": [
    "FindPercent.percentage()"
   ]
  },
  {
   "cell_type": "code",
   "execution_count": null,
   "id": "d7f01333-ee0a-43d2-9e7b-928975652ac4",
   "metadata": {},
   "outputs": [],
   "source": [
    "# Print area and Perimeter of Triangle using Class and Functions"
   ]
  },
  {
   "cell_type": "code",
   "execution_count": 54,
   "id": "0ebdc741-26d5-438d-9c42-b7a723c6b421",
   "metadata": {},
   "outputs": [],
   "source": [
    "class triangle:\n",
    "    def triangle():\n",
    "        height=int(input(\"Height: \"))\n",
    "        breadth=int(input(\"Breadth: \"))  \n",
    "        \n",
    "        print(\"Area formula:(Height*Breadth)/2\")\n",
    "        Area = (height*breadth)/2\n",
    "        print(\"Area of Triangle:\", Area)\n",
    "        return Area\n",
    "    def triangle2():\n",
    "        height1=int(input(\"Height1: \"))\n",
    "        height2=int(input(\"Height2: \"))\n",
    "        breadth=int(input(\"Breadth: \"))\n",
    "        perimeter=height1+height2+breadth\n",
    "        print(\"perimeter formula: Height1+Height2+Breadth\")\n",
    "        print(\"Perimeter of Triangle\", perimeter)\n",
    "        return perimeter\n",
    "        \n",
    "        "
   ]
  },
  {
   "cell_type": "code",
   "execution_count": 56,
   "id": "dc536552-12fc-49a6-8b92-e40360e3c304",
   "metadata": {},
   "outputs": [
    {
     "name": "stdin",
     "output_type": "stream",
     "text": [
      "Height:  32\n",
      "Breadth:  34\n"
     ]
    },
    {
     "name": "stdout",
     "output_type": "stream",
     "text": [
      "Area formula:(Height*Breadth)/2\n",
      "Area of Triangle: 544.0\n"
     ]
    },
    {
     "name": "stdin",
     "output_type": "stream",
     "text": [
      "Height1:  2\n",
      "Height2:  4\n",
      "Breadth:  4\n"
     ]
    },
    {
     "name": "stdout",
     "output_type": "stream",
     "text": [
      "perimeter formula: Height1+Height2+Breadth\n",
      "Perimeter of Triangle 10\n"
     ]
    },
    {
     "data": {
      "text/plain": [
       "10"
      ]
     },
     "execution_count": 56,
     "metadata": {},
     "output_type": "execute_result"
    }
   ],
   "source": [
    "triangle.triangle()\n",
    "triangle.triangle2()"
   ]
  },
  {
   "cell_type": "code",
   "execution_count": null,
   "id": "f2cd5dbe-430f-4659-bc7d-e4400665ac4d",
   "metadata": {},
   "outputs": [],
   "source": []
  }
 ],
 "metadata": {
  "kernelspec": {
   "display_name": "Python [conda env:base] *",
   "language": "python",
   "name": "conda-base-py"
  },
  "language_info": {
   "codemirror_mode": {
    "name": "ipython",
    "version": 3
   },
   "file_extension": ".py",
   "mimetype": "text/x-python",
   "name": "python",
   "nbconvert_exporter": "python",
   "pygments_lexer": "ipython3",
   "version": "3.12.7"
  }
 },
 "nbformat": 4,
 "nbformat_minor": 5
}
